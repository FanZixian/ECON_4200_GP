{
 "cells": [
  {
   "cell_type": "code",
   "execution_count": 2,
   "metadata": {},
   "outputs": [
    {
     "ename": "ImportError",
     "evalue": "cannot import name 'truncatedpoisson' from 'statsmodels.distributions.discrete' (c:\\Users\\asus\\anaconda3\\envs\\pt-gpu\\lib\\site-packages\\statsmodels\\distributions\\discrete.py)",
     "output_type": "error",
     "traceback": [
      "\u001b[1;31m---------------------------------------------------------------------------\u001b[0m",
      "\u001b[1;31mImportError\u001b[0m                               Traceback (most recent call last)",
      "\u001b[1;32me:\\Lectures\\ECON4200\\Project\\Github\\Kalman Filter Taylor.ipynb Cell 1\u001b[0m line \u001b[0;36m5\n\u001b[0;32m      <a href='vscode-notebook-cell:/e%3A/Lectures/ECON4200/Project/Github/Kalman%20Filter%20Taylor.ipynb#W0sZmlsZQ%3D%3D?line=1'>2</a>\u001b[0m \u001b[39mimport\u001b[39;00m \u001b[39mnumpy\u001b[39;00m \u001b[39mas\u001b[39;00m \u001b[39mnp\u001b[39;00m\n\u001b[0;32m      <a href='vscode-notebook-cell:/e%3A/Lectures/ECON4200/Project/Github/Kalman%20Filter%20Taylor.ipynb#W0sZmlsZQ%3D%3D?line=2'>3</a>\u001b[0m \u001b[39mimport\u001b[39;00m \u001b[39mmatplotlib\u001b[39;00m\u001b[39m.\u001b[39;00m\u001b[39mpyplot\u001b[39;00m \u001b[39mas\u001b[39;00m \u001b[39mplt\u001b[39;00m\n\u001b[1;32m----> <a href='vscode-notebook-cell:/e%3A/Lectures/ECON4200/Project/Github/Kalman%20Filter%20Taylor.ipynb#W0sZmlsZQ%3D%3D?line=4'>5</a>\u001b[0m \u001b[39mimport\u001b[39;00m \u001b[39mstatsmodels\u001b[39;00m\u001b[39m.\u001b[39;00m\u001b[39mapi\u001b[39;00m \u001b[39mas\u001b[39;00m \u001b[39msm\u001b[39;00m\n",
      "File \u001b[1;32mc:\\Users\\asus\\anaconda3\\envs\\pt-gpu\\lib\\site-packages\\statsmodels\\api.py:102\u001b[0m\n\u001b[0;32m     94\u001b[0m from .gam.generalized_additive_model import GLMGam\n\u001b[0;32m     95\u001b[0m from .genmod import api as genmod\n\u001b[0;32m     96\u001b[0m from .genmod.api import (\n\u001b[0;32m     97\u001b[0m     GEE,\n\u001b[0;32m     98\u001b[0m     GLM,\n\u001b[0;32m     99\u001b[0m     BinomialBayesMixedGLM,\n\u001b[0;32m    100\u001b[0m     NominalGEE,\n\u001b[0;32m    101\u001b[0m     OrdinalGEE,\n\u001b[1;32m--> 102\u001b[0m     PoissonBayesMixedGLM,\n\u001b[0;32m    103\u001b[0m     cov_struct,\n\u001b[0;32m    104\u001b[0m     families,\n\u001b[0;32m    105\u001b[0m )\n\u001b[0;32m    106\u001b[0m from .graphics import api as graphics\n\u001b[0;32m    107\u001b[0m from .graphics.gofplots import ProbPlot, qqline, qqplot, qqplot_2samples\n",
      "File \u001b[1;32mc:\\Users\\asus\\anaconda3\\envs\\pt-gpu\\lib\\site-packages\\statsmodels\\discrete\\truncated_model.py:11\u001b[0m\n\u001b[0;32m      9\u001b[0m \u001b[39mimport\u001b[39;00m \u001b[39mstatsmodels\u001b[39;00m\u001b[39m.\u001b[39;00m\u001b[39mbase\u001b[39;00m\u001b[39m.\u001b[39;00m\u001b[39mwrapper\u001b[39;00m \u001b[39mas\u001b[39;00m \u001b[39mwrap\u001b[39;00m\n\u001b[0;32m     10\u001b[0m \u001b[39mimport\u001b[39;00m \u001b[39mstatsmodels\u001b[39;00m\u001b[39m.\u001b[39;00m\u001b[39mregression\u001b[39;00m\u001b[39m.\u001b[39;00m\u001b[39mlinear_model\u001b[39;00m \u001b[39mas\u001b[39;00m \u001b[39mlm\u001b[39;00m\n\u001b[1;32m---> 11\u001b[0m \u001b[39mfrom\u001b[39;00m \u001b[39mstatsmodels\u001b[39;00m\u001b[39m.\u001b[39;00m\u001b[39mdistributions\u001b[39;00m\u001b[39m.\u001b[39;00m\u001b[39mdiscrete\u001b[39;00m \u001b[39mimport\u001b[39;00m (\n\u001b[0;32m     12\u001b[0m     truncatedpoisson,\n\u001b[0;32m     13\u001b[0m     truncatednegbin,\n\u001b[0;32m     14\u001b[0m     )\n\u001b[0;32m     15\u001b[0m \u001b[39mfrom\u001b[39;00m \u001b[39mstatsmodels\u001b[39;00m\u001b[39m.\u001b[39;00m\u001b[39mdiscrete\u001b[39;00m\u001b[39m.\u001b[39;00m\u001b[39mdiscrete_model\u001b[39;00m \u001b[39mimport\u001b[39;00m (\n\u001b[0;32m     16\u001b[0m     DiscreteModel,\n\u001b[0;32m     17\u001b[0m     CountModel,\n\u001b[1;32m   (...)\u001b[0m\n\u001b[0;32m     23\u001b[0m     _discrete_results_docs,\n\u001b[0;32m     24\u001b[0m     )\n\u001b[0;32m     25\u001b[0m \u001b[39mfrom\u001b[39;00m \u001b[39mstatsmodels\u001b[39;00m\u001b[39m.\u001b[39;00m\u001b[39mtools\u001b[39;00m\u001b[39m.\u001b[39;00m\u001b[39mnumdiff\u001b[39;00m \u001b[39mimport\u001b[39;00m approx_hess\n",
      "\u001b[1;31mImportError\u001b[0m: cannot import name 'truncatedpoisson' from 'statsmodels.distributions.discrete' (c:\\Users\\asus\\anaconda3\\envs\\pt-gpu\\lib\\site-packages\\statsmodels\\distributions\\discrete.py)"
     ]
    }
   ],
   "source": [
    "import pandas as pd\n",
    "import numpy as np\n",
    "import matplotlib.pyplot as plt\n",
    "\n",
    "import statsmodels.api as sm"
   ]
  },
  {
   "cell_type": "code",
   "execution_count": null,
   "metadata": {},
   "outputs": [],
   "source": []
  }
 ],
 "metadata": {
  "kernelspec": {
   "display_name": "pt-gpu",
   "language": "python",
   "name": "python3"
  },
  "language_info": {
   "codemirror_mode": {
    "name": "ipython",
    "version": 3
   },
   "file_extension": ".py",
   "mimetype": "text/x-python",
   "name": "python",
   "nbconvert_exporter": "python",
   "pygments_lexer": "ipython3",
   "version": "3.8.16"
  }
 },
 "nbformat": 4,
 "nbformat_minor": 2
}
