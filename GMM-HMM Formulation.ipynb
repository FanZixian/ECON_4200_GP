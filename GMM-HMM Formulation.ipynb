{
 "cells": [
  {
   "cell_type": "markdown",
   "metadata": {},
   "source": [
    "# This file is to formulate the GMM-HMM inside our research"
   ]
  },
  {
   "cell_type": "markdown",
   "metadata": {},
   "source": [
    "From the dataset review, it is found that the release time of FFR is March 30th, but the release time of GDP growth rate for that quarter is March 31st or April 1st, which means that we as the public cannot get access to the macroeconomic factors for that period of time before the FFR is already released, hence it is imposible to forecast it based on the latest data."
   ]
  },
  {
   "cell_type": "markdown",
   "metadata": {},
   "source": [
    "As we want the macroeconomic factors as latest as possible, we try to obtain the estimation of them as close as possible, which is achieved by implementing the Hidden Markov Model to them. As treasury bond yields have close relationship with FFR, and they can be treated as the representation of the current macroeconomic condition, we choose to use them to enhance our projection."
   ]
  },
  {
   "cell_type": "markdown",
   "metadata": {},
   "source": [
    "By starting from the time of the date that the macroeconomic data are all released, for example April 1st, we aim to get the latest macroeconomic data in order to predict the FFR for the next period, which is June 29th. Hence, we can assume the model as follows:<br>\n",
    "\n",
    "- The observable states $O_t$, t starts from 0, these are the factors generated from the treasury bond yields.\n",
    "- The unobservable states $X_t$, t starts from 0, these are the representation of the Macro economic condition.\n",
    "\n",
    "And we assume the observable states follow Gaussian Mixture Model that the mean and variance are determined by the current unobservable states. Hence, according to all the assumptions from GMM-HMM, we have the following formulas:"
   ]
  },
  {
   "cell_type": "markdown",
   "metadata": {},
   "source": [
    "Transition Probability: $$p(X_t|X_{t-1})$$"
   ]
  },
  {
   "cell_type": "markdown",
   "metadata": {},
   "source": [
    "GMM-HMM Observe Probability: $$p(O_t|X_t) = \\sum_{i=1}^N \\pi_i \\cdot \\mathcal{N}(\\mathbf{o}|\\mathbf{\\mu}_i, \\mathbf{\\Sigma}_i)$$<br>\n",
    "where $\\mathbf{o}$ stands for the vectors of the observed states, $\\pi_i$ stands for the $i^{th}$ weights of the mixture components, $\\mu_i$ is the mean vector, $\\mathbf{\\Sigma}_i$ is the covariance matrix, $\\mathcal{N}(\\mathbf{o}|\\mathbf{\\mu}_i, \\mathbf{\\Sigma}_i)$ is the Multivariate Gaussian Distribution."
   ]
  },
  {
   "cell_type": "markdown",
   "metadata": {},
   "source": [
    "The initial state of X: $$p(X_1)$$"
   ]
  },
  {
   "cell_type": "markdown",
   "metadata": {},
   "source": []
  },
  {
   "cell_type": "markdown",
   "metadata": {},
   "source": []
  },
  {
   "cell_type": "markdown",
   "metadata": {},
   "source": []
  },
  {
   "cell_type": "markdown",
   "metadata": {},
   "source": []
  },
  {
   "cell_type": "markdown",
   "metadata": {},
   "source": []
  }
 ],
 "metadata": {
  "kernelspec": {
   "display_name": "pt-gpu",
   "language": "python",
   "name": "python3"
  },
  "language_info": {
   "name": "python",
   "version": "3.8.16"
  }
 },
 "nbformat": 4,
 "nbformat_minor": 2
}
